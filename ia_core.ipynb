{
 "cells": [
  {
   "cell_type": "code",
   "execution_count": 1,
   "id": "80172a40-5b5e-4261-a6e7-9df14d96be24",
   "metadata": {},
   "outputs": [
    {
     "name": "stdout",
     "output_type": "stream",
     "text": [
      "hola tere\n"
     ]
    }
   ],
   "source": [
    "print(\"hola tere\")"
   ]
  },
  {
   "cell_type": "code",
   "execution_count": null,
   "id": "8f051b4d-064b-474c-8973-a619d76d640a",
   "metadata": {},
   "outputs": [],
   "source": []
  }
 ],
 "metadata": {
  "kernelspec": {
   "display_name": "Python (venv_asistente_aduanero)",
   "language": "python",
   "name": "venv_asistente_aduanero"
  },
  "language_info": {
   "codemirror_mode": {
    "name": "ipython",
    "version": 3
   },
   "file_extension": ".py",
   "mimetype": "text/x-python",
   "name": "python",
   "nbconvert_exporter": "python",
   "pygments_lexer": "ipython3",
   "version": "3.12.7"
  }
 },
 "nbformat": 4,
 "nbformat_minor": 5
}
