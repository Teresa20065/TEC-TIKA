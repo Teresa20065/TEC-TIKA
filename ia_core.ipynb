{
 "cells": [
  {
   "cell_type": "code",
   "execution_count": 3,
   "id": "8f051b4d-064b-474c-8973-a619d76d640a",
   "metadata": {},
   "outputs": [
    {
     "name": "stdout",
     "output_type": "stream",
     "text": [
      "Enviando pregunta a la IA...\n",
      "Respuesta recibida!\n",
      "¡Hola!\n",
      "\n",
      "Soy un modelo de lenguaje grande, entrenado por Google.\n",
      "\n",
      "Estoy aquí para ayudarte con tus preguntas y tareas. ¿En qué puedo ayudarte hoy?\n"
     ]
    }
   ],
   "source": [
    "import google.generativeai as genai \n",
    "import os \n",
    "from dotenv import load_dotenv \n",
    "load_dotenv() # Carga la API Key desde el archivo .env \n",
    "# Configura la API Key \n",
    "genai.configure(api_key=os.getenv(\"GEMINI_API_KEY\")) \n",
    "# Crea el modelo \n",
    "model = genai.GenerativeModel('models/gemini-2.5-flash') \n",
    "def preguntar_a_gemini(pregunta): \n",
    "\n",
    "    # for m in genai.list_models(): obtener nombres de modelos de gemini\n",
    "        # print(m.name)\n",
    "    \"\"\" \n",
    "    Esta función toma una pregunta y devuelve la respuesta de Gemini. \n",
    "    \"\"\" \n",
    "    print(\"Enviando pregunta a la IA...\") \n",
    "    try: \n",
    "        response = model.generate_content(pregunta) \n",
    "        print(\"Respuesta recibida!\") \n",
    "        return response.text \n",
    "    except Exception as e: \n",
    "        print(f\"Ocurrió un error: {e}\") \n",
    "        return \"Lo siento, hubo un error al contactar a la IA.\" \n",
    " \n",
    "# --- Puedes probar que funciona aquí mismo --- \n",
    "if __name__ == '__main__': \n",
    "    respuesta_de_prueba = preguntar_a_gemini(\"Hola, ¿quién eres?\") \n",
    "    print(respuesta_de_prueba) "
   ]
  },
  {
   "cell_type": "code",
   "execution_count": 6,
   "id": "1481480c",
   "metadata": {},
   "outputs": [
    {
     "name": "stdout",
     "output_type": "stream",
     "text": [
      "hola como estas\n"
     ]
    }
   ],
   "source": [
    "def leer_fragmentos_ley(ruta_archivo=\"ley_fragmentos.txt\"):\n",
    "    \"\"\"\n",
    "    Lee el archivo de fragmentos de ley y devuelve su contenido como un string.\n",
    "    \"\"\"\n",
    "    try:\n",
    "        with open(ruta_archivo, \"r\", encoding=\"utf-8\") as archivo:\n",
    "            contenido = archivo.read()\n",
    "        return contenido\n",
    "    except FileNotFoundError:\n",
    "        print(f\"El archivo {ruta_archivo} no fue encontrado.\")\n",
    "        return \"\"\n",
    "    except Exception as e:\n",
    "        print(f\"Ocurrió un error al leer el archivo: {e}\")\n",
    "        return \"\"\n",
    "    \n",
    "print(leer_fragmentos_ley())"
   ]
  }
 ],
 "metadata": {
  "kernelspec": {
   "display_name": "Python (venv_asistente_aduanero)",
   "language": "python",
   "name": "venv_asistente_aduanero"
  },
  "language_info": {
   "codemirror_mode": {
    "name": "ipython",
    "version": 3
   },
   "file_extension": ".py",
   "mimetype": "text/x-python",
   "name": "python",
   "nbconvert_exporter": "python",
   "pygments_lexer": "ipython3",
   "version": "3.12.7"
  }
 },
 "nbformat": 4,
 "nbformat_minor": 5
}
